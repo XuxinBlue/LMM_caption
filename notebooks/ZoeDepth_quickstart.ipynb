{
  "nbformat": 4,
  "nbformat_minor": 0,
  "metadata": {
    "colab": {
      "provenance": [],
      "collapsed_sections": [
        "OF0_pagYc1NR",
        "wqWnTZHqcaRR"
      ],
      "toc_visible": true
    },
    "kernelspec": {
      "name": "python3",
      "display_name": "Python 3"
    },
    "language_info": {
      "name": "python"
    },
    "accelerator": "GPU",
    "gpuClass": "standard"
  },
  "cells": [
    {
      "cell_type": "markdown",
      "source": [
        "## Welcome to ZoeDepth Colab notebook"
      ],
      "metadata": {
        "id": "eHpqqdvza03n"
      }
    },
    {
      "cell_type": "markdown",
      "source": [
        "This notebook provides an easy to use interface for the depth estimation model \"ZoeDepth\".\n",
        "\n",
        "It accompanies our paper : [ZoeDepth: Zero-shot Transfer by Combining Relative and Metric Depth](https://arxiv.org/abs/2302.12288v1)"
      ],
      "metadata": {
        "id": "qnfC4dBNbTMh"
      }
    },
    {
      "cell_type": "markdown",
      "source": [
        "# Setup"
      ],
      "metadata": {
        "id": "OF0_pagYc1NR"
      }
    },
    {
      "cell_type": "code",
      "execution_count": null,
      "metadata": {
        "colab": {
          "base_uri": "https://localhost:8080/"
        },
        "id": "KX21oVM6SvSq",
        "outputId": "580cb3bb-e1c5-4fa5-f3cd-587d3b2c4566"
      },
      "outputs": [
        {
          "output_type": "stream",
          "name": "stdout",
          "text": [
            "Looking in indexes: https://pypi.org/simple, https://us-python.pkg.dev/colab-wheels/public/simple/\n",
            "Requirement already satisfied: timm in /usr/local/lib/python3.8/dist-packages (0.6.12)\n",
            "Requirement already satisfied: huggingface-hub in /usr/local/lib/python3.8/dist-packages (from timm) (0.12.1)\n",
            "Requirement already satisfied: pyyaml in /usr/local/lib/python3.8/dist-packages (from timm) (6.0)\n",
            "Requirement already satisfied: torch>=1.7 in /usr/local/lib/python3.8/dist-packages (from timm) (1.13.1+cu116)\n",
            "Requirement already satisfied: torchvision in /usr/local/lib/python3.8/dist-packages (from timm) (0.14.1+cu116)\n",
            "Requirement already satisfied: typing-extensions in /usr/local/lib/python3.8/dist-packages (from torch>=1.7->timm) (4.5.0)\n",
            "Requirement already satisfied: requests in /usr/local/lib/python3.8/dist-packages (from huggingface-hub->timm) (2.25.1)\n",
            "Requirement already satisfied: filelock in /usr/local/lib/python3.8/dist-packages (from huggingface-hub->timm) (3.9.0)\n",
            "Requirement already satisfied: packaging>=20.9 in /usr/local/lib/python3.8/dist-packages (from huggingface-hub->timm) (23.0)\n",
            "Requirement already satisfied: tqdm>=4.42.1 in /usr/local/lib/python3.8/dist-packages (from huggingface-hub->timm) (4.64.1)\n",
            "Requirement already satisfied: pillow!=8.3.*,>=5.3.0 in /usr/local/lib/python3.8/dist-packages (from torchvision->timm) (7.1.2)\n",
            "Requirement already satisfied: numpy in /usr/local/lib/python3.8/dist-packages (from torchvision->timm) (1.22.4)\n",
            "Requirement already satisfied: chardet<5,>=3.0.2 in /usr/local/lib/python3.8/dist-packages (from requests->huggingface-hub->timm) (4.0.0)\n",
            "Requirement already satisfied: urllib3<1.27,>=1.21.1 in /usr/local/lib/python3.8/dist-packages (from requests->huggingface-hub->timm) (1.24.3)\n",
            "Requirement already satisfied: idna<3,>=2.5 in /usr/local/lib/python3.8/dist-packages (from requests->huggingface-hub->timm) (2.10)\n",
            "Requirement already satisfied: certifi>=2017.4.17 in /usr/local/lib/python3.8/dist-packages (from requests->huggingface-hub->timm) (2022.12.7)\n"
          ]
        }
      ],
      "source": [
        "!pip install --upgrade timm"
      ]
    },
    {
      "cell_type": "code",
      "source": [
        "!git clone https://github.com/isl-org/ZoeDepth.git"
      ],
      "metadata": {
        "colab": {
          "base_uri": "https://localhost:8080/"
        },
        "id": "2Mwb90-BTC9w",
        "outputId": "030b9b43-3c04-42d2-ad65-485a717e8a6b"
      },
      "execution_count": null,
      "outputs": [
        {
          "output_type": "stream",
          "name": "stdout",
          "text": [
            "fatal: destination path 'ZoeDepth' already exists and is not an empty directory.\n"
          ]
        }
      ]
    },
    {
      "cell_type": "code",
      "source": [
        "cd ZoeDepth"
      ],
      "metadata": {
        "colab": {
          "base_uri": "https://localhost:8080/"
        },
        "id": "ZFLgRBC3TVL2",
        "outputId": "ad805cce-67e9-4d7e-d5ca-0a3742bc41f5"
      },
      "execution_count": null,
      "outputs": [
        {
          "output_type": "stream",
          "name": "stdout",
          "text": [
            "/content/ZoeDepth\n"
          ]
        }
      ]
    },
    {
      "cell_type": "markdown",
      "source": [
        "Sanity checks, to make sure everything is working"
      ],
      "metadata": {
        "id": "9MEhLSXKcAzE"
      }
    },
    {
      "cell_type": "code",
      "source": [
        "!python sanity.py"
      ],
      "metadata": {
        "colab": {
          "base_uri": "https://localhost:8080/"
        },
        "id": "-c7C22G1Tncc",
        "outputId": "4ad4775f-b784-4d7e-acdb-bfeaeebdc235"
      },
      "execution_count": null,
      "outputs": [
        {
          "output_type": "stream",
          "name": "stdout",
          "text": [
            "Downloading: \"https://github.com/intel-isl/MiDaS/zipball/master\" to /root/.cache/torch/hub/master.zip\n",
            "******************** Testing zoedepth ********************\n",
            "Config:\n",
            "{'attractor_alpha': 1000,\n",
            " 'attractor_gamma': 2,\n",
            " 'attractor_kind': 'mean',\n",
            " 'attractor_type': 'inv',\n",
            " 'aug': True,\n",
            " 'bin_centers_type': 'softplus',\n",
            " 'bin_embedding_dim': 128,\n",
            " 'clip_grad': 0.1,\n",
            " 'dataset': 'nyu',\n",
            " 'distributed': True,\n",
            " 'force_keep_ar': True,\n",
            " 'gpu': None,\n",
            " 'img_size': [384, 512],\n",
            " 'inverse_midas': False,\n",
            " 'log_images_every': 0.1,\n",
            " 'max_temp': 50.0,\n",
            " 'max_translation': 100,\n",
            " 'memory_efficient': True,\n",
            " 'midas_model_type': 'DPT_BEiT_L_384',\n",
            " 'min_temp': 0.0212,\n",
            " 'model': 'zoedepth',\n",
            " 'n_attractors': [16, 8, 4, 1],\n",
            " 'n_bins': 64,\n",
            " 'name': 'ZoeDepth',\n",
            " 'notes': '',\n",
            " 'output_distribution': 'logbinomial',\n",
            " 'prefetch': False,\n",
            " 'pretrained_resource': 'url::https://github.com/isl-org/ZoeDepth/releases/download/v1.0/ZoeD_M12_N.pt',\n",
            " 'print_losses': False,\n",
            " 'project': 'ZoeDepth',\n",
            " 'random_crop': False,\n",
            " 'random_translate': False,\n",
            " 'root': '.',\n",
            " 'save_dir': '/root/shortcuts/monodepth3_checkpoints',\n",
            " 'shared_dict': None,\n",
            " 'tags': '',\n",
            " 'train_midas': False,\n",
            " 'translate_prob': 0.2,\n",
            " 'uid': None,\n",
            " 'use_amp': False,\n",
            " 'use_pretrained_midas': False,\n",
            " 'use_shared_dict': False,\n",
            " 'validate_every': 0.25,\n",
            " 'version_name': 'v1',\n",
            " 'workers': 16}\n",
            "img_size [384, 512]\n",
            "Using cache found in /root/.cache/torch/hub/intel-isl_MiDaS_master\n",
            "/usr/local/lib/python3.8/dist-packages/torch/functional.py:504: UserWarning: torch.meshgrid: in an upcoming release, it will be required to pass the indexing argument. (Triggered internally at ../aten/src/ATen/native/TensorShape.cpp:3190.)\n",
            "  return _VF.meshgrid(tensors, **kwargs)  # type: ignore[attr-defined]\n",
            "Params passed to Resize transform:\n",
            "\twidth:  512\n",
            "\theight:  384\n",
            "\tresize_target:  True\n",
            "\tkeep_aspect_ratio:  True\n",
            "\tensure_multiple_of:  32\n",
            "\tresize_method:  minimal\n",
            "Using pretrained resource url::https://github.com/isl-org/ZoeDepth/releases/download/v1.0/ZoeD_M12_N.pt\n",
            "Loaded successfully\n",
            "--------------------Testing on a random input--------------------\n",
            "metric_depth torch.Size([1, 1, 384, 512])\n",
            "\n",
            "\n",
            "\n",
            "-------------------- Testing on an indoor scene from url --------------------\n",
            "X.shape torch.Size([1, 3, 193, 260])\n",
            "predicting\n",
            "output.shape torch.Size([1, 1, 193, 260])\n",
            "saved pred.png\n"
          ]
        }
      ]
    },
    {
      "cell_type": "code",
      "source": [
        "# Download file, only works on Chrome\n",
        "from google.colab import files\n",
        "files.download(\"pred.png\")"
      ],
      "metadata": {
        "colab": {
          "base_uri": "https://localhost:8080/"
        },
        "id": "JVv53wUATtdi",
        "outputId": "1542ef79-5f46-4f17-c973-0e56194c53b8"
      },
      "execution_count": null,
      "outputs": [
        {
          "output_type": "display_data",
          "data": {
            "text/plain": [
              "<IPython.core.display.Javascript object>"
            ],
            "application/javascript": [
              "\n",
              "    async function download(id, filename, size) {\n",
              "      if (!google.colab.kernel.accessAllowed) {\n",
              "        return;\n",
              "      }\n",
              "      const div = document.createElement('div');\n",
              "      const label = document.createElement('label');\n",
              "      label.textContent = `Downloading \"${filename}\": `;\n",
              "      div.appendChild(label);\n",
              "      const progress = document.createElement('progress');\n",
              "      progress.max = size;\n",
              "      div.appendChild(progress);\n",
              "      document.body.appendChild(div);\n",
              "\n",
              "      const buffers = [];\n",
              "      let downloaded = 0;\n",
              "\n",
              "      const channel = await google.colab.kernel.comms.open(id);\n",
              "      // Send a message to notify the kernel that we're ready.\n",
              "      channel.send({})\n",
              "\n",
              "      for await (const message of channel.messages) {\n",
              "        // Send a message to notify the kernel that we're ready.\n",
              "        channel.send({})\n",
              "        if (message.buffers) {\n",
              "          for (const buffer of message.buffers) {\n",
              "            buffers.push(buffer);\n",
              "            downloaded += buffer.byteLength;\n",
              "            progress.value = downloaded;\n",
              "          }\n",
              "        }\n",
              "      }\n",
              "      const blob = new Blob(buffers, {type: 'application/binary'});\n",
              "      const a = document.createElement('a');\n",
              "      a.href = window.URL.createObjectURL(blob);\n",
              "      a.download = filename;\n",
              "      div.appendChild(a);\n",
              "      a.click();\n",
              "      div.remove();\n",
              "    }\n",
              "  "
            ]
          },
          "metadata": {}
        },
        {
          "output_type": "display_data",
          "data": {
            "text/plain": [
              "<IPython.core.display.Javascript object>"
            ],
            "application/javascript": [
              "download(\"download_7bc911fa-a244-4e92-ab42-87f4c43ce7ac\", \"pred.png\", 80289)"
            ]
          },
          "metadata": {}
        }
      ]
    },
    {
      "cell_type": "markdown",
      "source": [
        "# Load the model"
      ],
      "metadata": {
        "id": "wqWnTZHqcaRR"
      }
    },
    {
      "cell_type": "code",
      "source": [
        "import torch\n",
        "from zoedepth.utils.misc import get_image_from_url, colorize\n",
        "from PIL import Image\n",
        "import matplotlib.pyplot as plt\n",
        "\n",
        "\n",
        "zoe = torch.hub.load(\".\", \"ZoeD_N\", source=\"local\", pretrained=True)"
      ],
      "metadata": {
        "colab": {
          "base_uri": "https://localhost:8080/"
        },
        "id": "FHxbIe1-VXVp",
        "outputId": "ee333166-5718-4572-e30c-99ee9897f148"
      },
      "execution_count": null,
      "outputs": [
        {
          "output_type": "stream",
          "name": "stdout",
          "text": [
            "img_size [384, 512]\n"
          ]
        },
        {
          "output_type": "stream",
          "name": "stderr",
          "text": [
            "Using cache found in /root/.cache/torch/hub/intel-isl_MiDaS_master\n",
            "/usr/local/lib/python3.8/dist-packages/torch/functional.py:504: UserWarning: torch.meshgrid: in an upcoming release, it will be required to pass the indexing argument. (Triggered internally at ../aten/src/ATen/native/TensorShape.cpp:3190.)\n",
            "  return _VF.meshgrid(tensors, **kwargs)  # type: ignore[attr-defined]\n"
          ]
        },
        {
          "output_type": "stream",
          "name": "stdout",
          "text": [
            "Params passed to Resize transform:\n",
            "\twidth:  512\n",
            "\theight:  384\n",
            "\tresize_target:  True\n",
            "\tkeep_aspect_ratio:  True\n",
            "\tensure_multiple_of:  32\n",
            "\tresize_method:  minimal\n",
            "Using pretrained resource url::https://github.com/isl-org/ZoeDepth/releases/download/v1.0/ZoeD_M12_N.pt\n",
            "Loaded successfully\n"
          ]
        }
      ]
    },
    {
      "cell_type": "code",
      "source": [
        "zoe = zoe.to('cuda')"
      ],
      "metadata": {
        "id": "4roIdsrSW6wK"
      },
      "execution_count": null,
      "outputs": []
    },
    {
      "cell_type": "markdown",
      "source": [
        "# Prediction"
      ],
      "metadata": {
        "id": "BsJ1dyJtcpDM"
      }
    },
    {
      "cell_type": "code",
      "source": [
        "#@title Predicting depth from a url image\n",
        "import cv2\n",
        "img_url = \"/content/0000_gt.png\" #@param {type:\"string\"}\n",
        "# img = get_image_from_url(img_url)\n",
        "img = cv2.imread(img_url, 0)\n",
        "depth = zoe.infer_pil(img)\n",
        "\n",
        "\n",
        "colored_depth = colorize(depth)\n",
        "fig, axs = plt.subplots(1,2, figsize=(15,7))\n",
        "for ax, im, title in zip(axs, [img, colored_depth], ['Input', 'Predicted Depth']):\n",
        "  ax.imshow(im)\n",
        "  ax.axis('off')\n",
        "  ax.set_title(title)"
      ],
      "metadata": {
        "colab": {
          "base_uri": "https://localhost:8080/",
          "height": 211
        },
        "id": "OJ9bY7rrVuAq",
        "outputId": "dba0e168-6842-4c49-bf8a-dfb42b87bd46"
      },
      "execution_count": 1,
      "outputs": [
        {
          "output_type": "error",
          "ename": "NameError",
          "evalue": "name 'get_image_from_url' is not defined",
          "traceback": [
            "\u001b[0;31m---------------------------------------------------------------------------\u001b[0m",
            "\u001b[0;31mNameError\u001b[0m                                 Traceback (most recent call last)",
            "\u001b[0;32m<ipython-input-1-4ae2bc3b29ac>\u001b[0m in \u001b[0;36m<cell line: 0>\u001b[0;34m()\u001b[0m\n\u001b[1;32m      1\u001b[0m \u001b[0;31m#@title Predicting depth from a url image\u001b[0m\u001b[0;34m\u001b[0m\u001b[0;34m\u001b[0m\u001b[0m\n\u001b[1;32m      2\u001b[0m \u001b[0mimg_url\u001b[0m \u001b[0;34m=\u001b[0m \u001b[0;34m\"/content/0000_gt.png\"\u001b[0m \u001b[0;31m#@param {type:\"string\"}\u001b[0m\u001b[0;34m\u001b[0m\u001b[0;34m\u001b[0m\u001b[0m\n\u001b[0;32m----> 3\u001b[0;31m \u001b[0mimg\u001b[0m \u001b[0;34m=\u001b[0m \u001b[0mget_image_from_url\u001b[0m\u001b[0;34m(\u001b[0m\u001b[0mimg_url\u001b[0m\u001b[0;34m)\u001b[0m\u001b[0;34m\u001b[0m\u001b[0;34m\u001b[0m\u001b[0m\n\u001b[0m\u001b[1;32m      4\u001b[0m \u001b[0mdepth\u001b[0m \u001b[0;34m=\u001b[0m \u001b[0mzoe\u001b[0m\u001b[0;34m.\u001b[0m\u001b[0minfer_pil\u001b[0m\u001b[0;34m(\u001b[0m\u001b[0mimg\u001b[0m\u001b[0;34m)\u001b[0m\u001b[0;34m\u001b[0m\u001b[0;34m\u001b[0m\u001b[0m\n\u001b[1;32m      5\u001b[0m \u001b[0;34m\u001b[0m\u001b[0m\n",
            "\u001b[0;31mNameError\u001b[0m: name 'get_image_from_url' is not defined"
          ]
        }
      ]
    },
    {
      "cell_type": "markdown",
      "source": [
        "# 新段落"
      ],
      "metadata": {
        "id": "SEJHhcbqywKu"
      }
    },
    {
      "cell_type": "code",
      "source": [],
      "metadata": {
        "id": "yGmrrFowXYNM"
      },
      "execution_count": null,
      "outputs": []
    }
  ]
}