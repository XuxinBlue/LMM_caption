{
 "cells": [
  {
   "cell_type": "code",
   "execution_count": null,
   "metadata": {},
   "outputs": [],
   "source": [
    "'''\n",
    "删除指定目录下的指定文件的指定内容\n",
    "'''\n",
    "import os\n",
    "import json\n",
    "\n",
    "# input\n",
    "input_path = f'~/LMM_caption/origin_input/train_clip_pic_16'\n",
    "\n",
    "\n",
    "# func\n",
    "def del_elem(content, elem):\n",
    "    if elem in content:\n",
    "        del content[elem]\n",
    "\n",
    "# traversal\n",
    "for root, dir, files in os.walk(input_path):\n",
    "    for file in files:\n",
    "        if file.endswith('_output.json'):\n",
    "            file = os.path.join(root, file)\n",
    "\n",
    "            # load json\n",
    "            with open(file, 'r', encoding='utf-8') as f:\n",
    "                data = json.load(f)\n",
    "            \n",
    "            # delete\n",
    "            del_elem(data, 'nouns')\n",
    "            del_elem(data, 'verbs')\n",
    "\n",
    "            # save to json\n",
    "            with open(file, 'w', encoding='utf-8') as f:\n",
    "                json.dump(data, f, indent=4, ensure_ascii=False)\n",
    "          "
   ]
  },
  {
   "cell_type": "code",
   "execution_count": 7,
   "metadata": {},
   "outputs": [],
   "source": [
    "'''\n",
    "添加某属性为空\n",
    "'''\n",
    "import json\n",
    "\n",
    "input_json = f'~/LMM_caption/json_dir/train_clip_pic_16/output_final.json'\n",
    "\n",
    "# 读取\n",
    "with open(input_json, 'r', encoding='utf-8') as f:\n",
    "    data = json.load(f)\n",
    "\n",
    "    for key in data:\n",
    "        # 如果字典中没有某个键，就添加一个空列表\n",
    "        key.setdefault('verbs', [])\n",
    "        key.setdefault('nouns', [])\n",
    "\n",
    "# 写入\n",
    "with open(input_json, 'w', encoding='utf-8') as f:\n",
    "    json.dump(data, f, indent=4, ensure_ascii=False)\n",
    "\n",
    "    "
   ]
  },
  {
   "cell_type": "code",
   "execution_count": 77,
   "metadata": {},
   "outputs": [],
   "source": [
    "'''\n",
    "检查时间标注正确与否\n",
    "'''\n",
    "import json\n",
    "\n",
    "input_json = f'~/LMM_caption/json_dir/train_clip_pic_16/output_final.json'\n",
    "error_txt = f'~/LMM_caption/caption_run/error.txt'\n",
    "time_choices = ['Daytime', 'Evening', 'Night']\n",
    "\n",
    "# 读取\n",
    "with open(input_json, 'r', encoding='utf-8') as f:\n",
    "    data = json.load(f)\n",
    "    # 获取 \"rectanglelabels\" 列表\n",
    "    for item in data:\n",
    "        labels = item.get('Label', {})\n",
    "        for label in labels:\n",
    "            rectanglelabels = label.get('rectanglelabels', [])\n",
    "\n",
    "            # 检查\n",
    "            for rectanglelabel in rectanglelabels:\n",
    "                if rectanglelabel not in time_choices: \n",
    "                    with open(error_txt, 'a') as f:\n",
    "                        f.write(item.get('image') + '\\n')\n",
    "\n"
   ]
  },
  {
   "cell_type": "code",
   "execution_count": 76,
   "metadata": {},
   "outputs": [],
   "source": [
    "'''\n",
    "批量修改时间标注\n",
    "'''\n",
    "import json\n",
    "import os\n",
    "\n",
    "# definition\n",
    "input_txt = f'~/LMM_caption/caption_run/error.txt'\n",
    "input_json = f'~/LMM_caption/json_dir/train_clip_pic_16/output_final.json'\n",
    "# change_time = 'Daytime'\n",
    "change_time = 'Night'\n",
    "# change_time = 'Evening'\n",
    "img_name_include = '23376553@N08_3655944101_55329268d0_0'\n",
    "\n",
    "# 读取json\n",
    "with open(input_json, 'r', encoding='utf-8') as f:\n",
    "    json_data = json.load(f)\n",
    "# 读取txt\n",
    "with open(input_txt, 'r') as f:\n",
    "    for line in f:\n",
    "        line = line.strip()\n",
    "        for item in json_data:\n",
    "            if img_name_include in item['image']:\n",
    "                item['Label'][0]['rectanglelabels'] = [change_time]\n",
    "\n",
    "# 写入json\n",
    "with open(input_json, 'w', encoding='utf-8') as f:\n",
    "    json.dump(json_data, f, indent=4, ensure_ascii=False)\n"
   ]
  },
  {
   "cell_type": "code",
   "execution_count": 3,
   "metadata": {},
   "outputs": [
    {
     "name": "stdout",
     "output_type": "stream",
     "text": [
      "len(files):46416\n"
     ]
    }
   ],
   "source": [
    "'''\n",
    "检查目录下类型文件数量\n",
    "'''\n",
    "from glob import glob\n",
    "\n",
    "input_path = f'~/LMM_caption/origin_input/train_clip_pic_16'\n",
    "file_type = 'jpg'\n",
    "\n",
    "files = glob(f'{input_path}/*.{file_type}')\n",
    "print(f'len(files):{len(files)}')\n",
    "\n"
   ]
  },
  {
   "cell_type": "code",
   "execution_count": 8,
   "metadata": {},
   "outputs": [
    {
     "name": "stdout",
     "output_type": "stream",
     "text": [
      "Number of dictionaries with key \"nouns\": 46416\n",
      "Number of dictionaries with key \"verbs\": 46416\n"
     ]
    }
   ],
   "source": [
    "'''\n",
    "统计json中某个key的数量, 输出出错的img到txt\n",
    "'''\n",
    "import json\n",
    "\n",
    "# 读取JSON文件\n",
    "input_json = f'~/LMM_caption/json_dir/train_clip_pic_16/output_final.json'\n",
    "# input_json = f'~/LMM_caption/origin_input/first_46416_data.json'\n",
    "output_txt = f'~/LMM_caption/caption_run/error.txt'\n",
    "with open(input_json, 'r') as f:\n",
    "    data = json.load(f)\n",
    "\n",
    "# 对每个字典进行迭代并检查是否存在key\n",
    "keys = ['nouns', 'verbs']\n",
    "# def key_count(key):\n",
    "#     count = sum(1 for item in data if key in item)\n",
    "#     print(f'Number of dictionaries with key \"{key}\": {count}')\n",
    "\n",
    "def key_check(key):\n",
    "    count = 0\n",
    "    for item in data:\n",
    "        if key in item:\n",
    "            count += 1\n",
    "        else:\n",
    "            with open(output_txt, 'a') as f:\n",
    "                f.write(item.get('image') + '\\n') \n",
    "    print(f'Number of dictionaries with key \"{key}\": {count}')\n",
    "    \n",
    "for key in keys:\n",
    "    key_check(key)"
   ]
  }
 ],
 "metadata": {
  "kernelspec": {
   "display_name": "modelscope",
   "language": "python",
   "name": "python3"
  },
  "language_info": {
   "codemirror_mode": {
    "name": "ipython",
    "version": 3
   },
   "file_extension": ".py",
   "mimetype": "text/x-python",
   "name": "python",
   "nbconvert_exporter": "python",
   "pygments_lexer": "ipython3",
   "version": "3.8.16"
  }
 },
 "nbformat": 4,
 "nbformat_minor": 2
}
