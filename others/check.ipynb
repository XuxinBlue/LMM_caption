{
 "cells": [
  {
   "cell_type": "code",
   "execution_count": null,
   "metadata": {},
   "outputs": [],
   "source": [
    "'''\n",
    "删除指定目录下的指定文件的指定内容\n",
    "'''\n",
    "import os\n",
    "import json\n",
    "\n",
    "# input\n",
    "input_path = f'/home/hf/code/liuzhiwei/AIGC/LMM/caption1/train_clip_pic_16'\n",
    "\n",
    "\n",
    "# func\n",
    "def del_elem(content, elem):\n",
    "    if elem in content:\n",
    "        del content[elem]\n",
    "\n",
    "# traversal\n",
    "for root, dir, files in os.walk(input_path):\n",
    "    for file in files:\n",
    "        if file.endswith('_output.json'):\n",
    "            file = os.path.join(root, file)\n",
    "\n",
    "            # load json\n",
    "            with open(file, 'r', encoding='utf-8') as f:\n",
    "                data = json.load(f)\n",
    "            \n",
    "            # delete\n",
    "            del_elem(data, 'nouns')\n",
    "            del_elem(data, 'verbs')\n",
    "\n",
    "            # save to json\n",
    "            with open(file, 'w', encoding='utf-8') as f:\n",
    "                json.dump(data, f, indent=4, ensure_ascii=False)\n",
    "          "
   ]
  }
 ],
 "metadata": {
  "kernelspec": {
   "display_name": "modelscope",
   "language": "python",
   "name": "python3"
  },
  "language_info": {
   "name": "python",
   "version": "3.8.18"
  }
 },
 "nbformat": 4,
 "nbformat_minor": 2
}
